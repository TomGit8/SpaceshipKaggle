{
 "cells": [
  {
   "cell_type": "markdown",
   "metadata": {},
   "source": [
    "### spaceship Titanic Kaggle 2025 Murban"
   ]
  },
  {
   "cell_type": "code",
   "execution_count": 1,
   "metadata": {},
   "outputs": [
    {
     "name": "stdout",
     "output_type": "stream",
     "text": [
      "Aperçu des données :\n",
      "  PassengerId HomePlanet CryoSleep  Cabin  Destination   Age    VIP  \\\n",
      "0     0001_01     Europa     False  B/0/P  TRAPPIST-1e  39.0  False   \n",
      "1     0002_01      Earth     False  F/0/S  TRAPPIST-1e  24.0  False   \n",
      "2     0003_01     Europa     False  A/0/S  TRAPPIST-1e  58.0   True   \n",
      "3     0003_02     Europa     False  A/0/S  TRAPPIST-1e  33.0  False   \n",
      "4     0004_01      Earth     False  F/1/S  TRAPPIST-1e  16.0  False   \n",
      "\n",
      "   RoomService  FoodCourt  ShoppingMall     Spa  VRDeck               Name  \\\n",
      "0          0.0        0.0           0.0     0.0     0.0    Maham Ofracculy   \n",
      "1        109.0        9.0          25.0   549.0    44.0       Juanna Vines   \n",
      "2         43.0     3576.0           0.0  6715.0    49.0      Altark Susent   \n",
      "3          0.0     1283.0         371.0  3329.0   193.0       Solam Susent   \n",
      "4        303.0       70.0         151.0   565.0     2.0  Willy Santantines   \n",
      "\n",
      "   Transported  \n",
      "0        False  \n",
      "1         True  \n",
      "2        False  \n",
      "3        False  \n",
      "4         True  \n",
      "\n",
      "Description des données :\n",
      "       PassengerId HomePlanet CryoSleep    Cabin  Destination          Age  \\\n",
      "count         8693       8492      8476     8494         8511  8514.000000   \n",
      "unique        8693          3         2     6560            3          NaN   \n",
      "top        0001_01      Earth     False  G/734/S  TRAPPIST-1e          NaN   \n",
      "freq             1       4602      5439        8         5915          NaN   \n",
      "mean           NaN        NaN       NaN      NaN          NaN    28.827930   \n",
      "std            NaN        NaN       NaN      NaN          NaN    14.489021   \n",
      "min            NaN        NaN       NaN      NaN          NaN     0.000000   \n",
      "25%            NaN        NaN       NaN      NaN          NaN    19.000000   \n",
      "50%            NaN        NaN       NaN      NaN          NaN    27.000000   \n",
      "75%            NaN        NaN       NaN      NaN          NaN    38.000000   \n",
      "max            NaN        NaN       NaN      NaN          NaN    79.000000   \n",
      "\n",
      "          VIP   RoomService     FoodCourt  ShoppingMall           Spa  \\\n",
      "count    8490   8512.000000   8510.000000   8485.000000   8510.000000   \n",
      "unique      2           NaN           NaN           NaN           NaN   \n",
      "top     False           NaN           NaN           NaN           NaN   \n",
      "freq     8291           NaN           NaN           NaN           NaN   \n",
      "mean      NaN    224.687617    458.077203    173.729169    311.138778   \n",
      "std       NaN    666.717663   1611.489240    604.696458   1136.705535   \n",
      "min       NaN      0.000000      0.000000      0.000000      0.000000   \n",
      "25%       NaN      0.000000      0.000000      0.000000      0.000000   \n",
      "50%       NaN      0.000000      0.000000      0.000000      0.000000   \n",
      "75%       NaN     47.000000     76.000000     27.000000     59.000000   \n",
      "max       NaN  14327.000000  29813.000000  23492.000000  22408.000000   \n",
      "\n",
      "              VRDeck            Name Transported  \n",
      "count    8505.000000            8493        8693  \n",
      "unique           NaN            8473           2  \n",
      "top              NaN  Gollux Reedall        True  \n",
      "freq             NaN               2        4378  \n",
      "mean      304.854791             NaN         NaN  \n",
      "std      1145.717189             NaN         NaN  \n",
      "min         0.000000             NaN         NaN  \n",
      "25%         0.000000             NaN         NaN  \n",
      "50%         0.000000             NaN         NaN  \n",
      "75%        46.000000             NaN         NaN  \n",
      "max     24133.000000             NaN         NaN  \n"
     ]
    }
   ],
   "source": [
    "import pandas as pd\n",
    "\n",
    "# Charger le fichier train.csv\n",
    "file_path = r\"C:\\\\Users\\\\tompa\\\\OneDrive\\\\Bureau\\\\Spaceship_Kaggle\\\\train.csv\"  # Chemin vers le fichier\n",
    "df = pd.read_csv(file_path)\n",
    "\n",
    "# Afficher les 5 premières lignes (optionnel)\n",
    "print(\"Aperçu des données :\")\n",
    "print(df.head())\n",
    "\n",
    "# Afficher une description statistique\n",
    "print(\"\\nDescription des données :\")\n",
    "print(df.describe(include='all'))  # Utilisez `include='all'` pour inclure les colonnes non numériques\n"
   ]
  }
 ],
 "metadata": {
  "kernelspec": {
   "display_name": "framework",
   "language": "python",
   "name": "python3"
  },
  "language_info": {
   "codemirror_mode": {
    "name": "ipython",
    "version": 3
   },
   "file_extension": ".py",
   "mimetype": "text/x-python",
   "name": "python",
   "nbconvert_exporter": "python",
   "pygments_lexer": "ipython3",
   "version": "3.8.20"
  }
 },
 "nbformat": 4,
 "nbformat_minor": 2
}
